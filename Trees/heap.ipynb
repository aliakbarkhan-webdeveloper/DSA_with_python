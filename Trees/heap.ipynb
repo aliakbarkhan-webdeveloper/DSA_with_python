{
 "cells": [
  {
   "cell_type": "code",
   "execution_count": null,
   "id": "initial_id",
   "metadata": {
    "collapsed": true
   },
   "outputs": [],
   "source": [
    "\n",
    "    largest=root\n",
    "    left=2*root+1\n",
    "    right=2*root+2\n",
    "    if left<n and arr[left]>arr[largest]:\n",
    "        largest=left\n",
    "    if right<n and arr[right]>arr[largest]:\n",
    "        largest=right\n",
    "    if largest!=root:\n",
    "        arr[root],arr[largest]=arr[largest],arr[root]\n",
    "\n",
    "        max_heapify(arr,n,largest)\n",
    "\n",
    "def buildHeap(arr):\n",
    "    n=len(arr)\n",
    "    for i in reversed(range(n//2)):\n",
    "        max_heapify(arr,n,i)\n",
    "\n",
    "\n",
    "heap=[100,5,3,2,8,15,6,102]\n",
    "buildHeap(heap)\n",
    "print(heap)\n",
    "\n",
    "\n",
    "# code for min heap\n",
    "\n",
    "def min_heapify(arr,n,root ):\n",
    "\n",
    "    smallest=root\n",
    "    left=2*root+1\n",
    "    right=2*root+2\n",
    "    if left<n and arr[left]<arr[smallest]:\n",
    "        smallest=left\n",
    "    if right<n and arr[right]<arr[smallest]:\n",
    "        smallest=right\n",
    "    if smallest!=root:\n",
    "        arr[root],arr[smallest]=arr[smallest],arr[root]\n",
    "\n",
    "        min_heapify(arr,n,smallest)\n",
    "\n",
    "def build_min_heap(arr):\n",
    "    n=len(arr)\n",
    "    for i in reversed(range(n//2)):\n",
    "        min_heapify(arr,n,i)\n",
    "\n",
    "build_min_heap(heap)\n",
    "print(heap)"
   ]
  }
 ],
 "metadata": {
  "kernelspec": {
   "display_name": "Python 3",
   "language": "python",
   "name": "python3"
  },
  "language_info": {
   "codemirror_mode": {
    "name": "ipython",
    "version": 2
   },
   "file_extension": ".py",
   "mimetype": "text/x-python",
   "name": "python",
   "nbconvert_exporter": "python",
   "pygments_lexer": "ipython2",
   "version": "2.7.6"
  }
 },
 "nbformat": 4,
 "nbformat_minor": 5
}
