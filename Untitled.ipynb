{
 "cells": [
  {
   "cell_type": "code",
   "execution_count": 1,
   "id": "bfe731aa-19e0-4aab-af4d-11288e784e92",
   "metadata": {},
   "outputs": [
    {
     "name": "stdout",
     "output_type": "stream",
     "text": [
      "<__main__.Tree object at 0x000002A8AE297890>\n"
     ]
    },
    {
     "ename": "NameError",
     "evalue": "name 'visualize_tree' is not defined",
     "output_type": "error",
     "traceback": [
      "\u001b[1;31m---------------------------------------------------------------------------\u001b[0m",
      "\u001b[1;31mNameError\u001b[0m                                 Traceback (most recent call last)",
      "Cell \u001b[1;32mIn[1], line 11\u001b[0m\n\u001b[0;32m      9\u001b[0m t1\u001b[38;5;241m.\u001b[39mright\u001b[38;5;241m=\u001b[39mTree(\u001b[38;5;241m2\u001b[39m)\n\u001b[0;32m     10\u001b[0m \u001b[38;5;28mprint\u001b[39m(t1)\n\u001b[1;32m---> 11\u001b[0m \u001b[43mvisualize_tree\u001b[49m(t1)\n",
      "\u001b[1;31mNameError\u001b[0m: name 'visualize_tree' is not defined"
     ]
    }
   ],
   "source": [
    "class Tree:\n",
    "    def __init__(self,val):\n",
    "        self.val=val\n",
    "        self.left=None\n",
    "        self.right=None\n",
    "\n",
    "t1=Tree(0)\n",
    "t1.left=Tree(1)\n",
    "t1.right=Tree(2)\n",
    "print(t1)\n",
    "visualize_tree(t1)\n"
   ]
  },
  {
   "cell_type": "code",
   "execution_count": 2,
   "id": "4dc1c3b3-4ed9-413d-af53-b4996d70ce71",
   "metadata": {},
   "outputs": [
    {
     "name": "stdout",
     "output_type": "stream",
     "text": [
      "<__main__.Tree object at 0x000002A8AE2975C0>\n"
     ]
    },
    {
     "ename": "NameError",
     "evalue": "name 'visualize_tree' is not defined",
     "output_type": "error",
     "traceback": [
      "\u001b[1;31m---------------------------------------------------------------------------\u001b[0m",
      "\u001b[1;31mNameError\u001b[0m                                 Traceback (most recent call last)",
      "Cell \u001b[1;32mIn[2], line 11\u001b[0m\n\u001b[0;32m      9\u001b[0m t1\u001b[38;5;241m.\u001b[39mright\u001b[38;5;241m=\u001b[39mTree(\u001b[38;5;241m2\u001b[39m)\n\u001b[0;32m     10\u001b[0m \u001b[38;5;28mprint\u001b[39m(t1)\n\u001b[1;32m---> 11\u001b[0m \u001b[43mvisualize_tree\u001b[49m(t1)\n",
      "\u001b[1;31mNameError\u001b[0m: name 'visualize_tree' is not defined"
     ]
    }
   ],
   "source": [
    "class Tree:\n",
    "    def __init__(self,val):\n",
    "        self.val=val\n",
    "        self.left=None\n",
    "        self.right=None\n",
    "\n",
    "t1=Tree(0)\n",
    "t1.left=Tree(1)\n",
    "t1.right=Tree(2)\n",
    "print(t1)\n",
    "visualize_tree(t1)\n",
    "\n"
   ]
  },
  {
   "cell_type": "code",
   "execution_count": 5,
   "id": "354c019c-4452-4f44-ba58-c20e5c39dc99",
   "metadata": {},
   "outputs": [
    {
     "ename": "NameError",
     "evalue": "name 'print_tree' is not defined",
     "output_type": "error",
     "traceback": [
      "\u001b[1;31m---------------------------------------------------------------------------\u001b[0m",
      "\u001b[1;31mNameError\u001b[0m                                 Traceback (most recent call last)",
      "Cell \u001b[1;32mIn[5], line 10\u001b[0m\n\u001b[0;32m      8\u001b[0m t1\u001b[38;5;241m.\u001b[39mleft\u001b[38;5;241m=\u001b[39mTree(\u001b[38;5;241m1\u001b[39m)\n\u001b[0;32m      9\u001b[0m t1\u001b[38;5;241m.\u001b[39mright\u001b[38;5;241m=\u001b[39mTree(\u001b[38;5;241m2\u001b[39m)\n\u001b[1;32m---> 10\u001b[0m \u001b[43mprint_tree\u001b[49m(t1)\n",
      "\u001b[1;31mNameError\u001b[0m: name 'print_tree' is not defined"
     ]
    }
   ],
   "source": [
    "class Tree:\n",
    "    def __init__(self,val):\n",
    "        self.val=val\n",
    "        self.left=None\n",
    "        self.right=None\n",
    "\n",
    "t1=Tree(0)\n",
    "t1.left=Tree(1)\n",
    "t1.right=Tree(2)\n",
    "print_tree(t1)\n",
    "\n",
    "\n"
   ]
  },
  {
   "cell_type": "code",
   "execution_count": null,
   "id": "fecbafee-b76b-4b57-bf63-202c9fede266",
   "metadata": {},
   "outputs": [],
   "source": []
  },
  {
   "cell_type": "code",
   "execution_count": null,
   "id": "55fbdb86-731e-4c39-9be4-494bc32262bf",
   "metadata": {},
   "outputs": [],
   "source": []
  },
  {
   "cell_type": "code",
   "execution_count": null,
   "id": "210da4e0-7bbc-4242-8cc6-dadf0d2addb1",
   "metadata": {},
   "outputs": [],
   "source": []
  },
  {
   "cell_type": "code",
   "execution_count": null,
   "id": "497360bf-3387-4cc9-ac0d-6252e38a7d58",
   "metadata": {},
   "outputs": [],
   "source": []
  },
  {
   "cell_type": "code",
   "execution_count": null,
   "id": "0d0eb3cc-57db-4778-bf21-3e6ebe519156",
   "metadata": {},
   "outputs": [],
   "source": []
  },
  {
   "cell_type": "code",
   "execution_count": 7,
   "id": "23dad7bb-e697-4ae8-aa5a-afac09aa9398",
   "metadata": {},
   "outputs": [],
   "source": [
    " def pot(self):\n",
    "        print(self.val)\n",
    "        if self.left:\n",
    "            self.left.pot()\n",
    "        if self.right:\n",
    "            self.right.pot()"
   ]
  },
  {
   "cell_type": "code",
   "execution_count": null,
   "id": "c43e7077-8a91-4cca-9cef-f3a03039dd07",
   "metadata": {},
   "outputs": [],
   "source": []
  }
 ],
 "metadata": {
  "kernelspec": {
   "display_name": "Python 3 (ipykernel)",
   "language": "python",
   "name": "python3"
  },
  "language_info": {
   "codemirror_mode": {
    "name": "ipython",
    "version": 3
   },
   "file_extension": ".py",
   "mimetype": "text/x-python",
   "name": "python",
   "nbconvert_exporter": "python",
   "pygments_lexer": "ipython3",
   "version": "3.12.6"
  }
 },
 "nbformat": 4,
 "nbformat_minor": 5
}
